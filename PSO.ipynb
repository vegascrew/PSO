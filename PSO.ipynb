{
 "cells": [
  {
   "cell_type": "code",
   "execution_count": 1,
   "metadata": {},
   "outputs": [],
   "source": [
    "from __future__ import division\n",
    "import random\n",
    "import math"
   ]
  },
  {
   "cell_type": "code",
   "execution_count": 14,
   "metadata": {},
   "outputs": [],
   "source": [
    "# function we are attempting to optimize (minimize)\n",
    "def func1(x):\n",
    "    total=0\n",
    "    for i in range(len(x)):\n",
    "        total+=x[i]**2\n",
    "    return total\n",
    "\n",
    "\n",
    "class Particle:\n",
    "    def __init__(self):\n",
    "        self.position_i=[]          # particle position\n",
    "        self.velocity_i=[]          # particle velocity\n",
    "        self.pos_best_i=[]          # best position individual\n",
    "        self.err_best_i=-1          # best error individual\n",
    "        self.err_i=-1               # error individual\n",
    "\n",
    "        for i in range(0,num_dimensions):\n",
    "            self.velocity_i.append(random.uniform(-1,1))\n",
    "            self.position_i.append(random.uniform(-2,2))\n",
    "\n",
    "    # evaluate current fitness\n",
    "    def evaluate(self,costFunc):\n",
    "        self.err_i=costFunc(self.position_i)\n",
    "        if self.err_i<self.err_best_i or self.err_best_i==-1: # check to see if the current position is an individual best (local update)\n",
    "            self.pos_best_i=self.position_i\n",
    "            self.err_best_i=self.err_i\n",
    "                    \n",
    "    # update new particle velocity\n",
    "    def update_velocity(self,pos_best_g):\n",
    "        w=0.5       # constant inertia weight (how much to weigh the previous velocity)\n",
    "        c1=1        # cognative constant\n",
    "        c2=2        # social constant\n",
    "        \n",
    "        for i in range(0,num_dimensions):\n",
    "            r1=random.random()\n",
    "            r2=random.random()\n",
    "            \n",
    "            vel_cognitive=c1*r1*(self.pos_best_i[i]-self.position_i[i])\n",
    "            vel_social=c2*r2*(pos_best_g[i]-self.position_i[i])\n",
    "            self.velocity_i[i]=w*self.velocity_i[i]+vel_cognitive+vel_social\n",
    "\n",
    "    # update the particle position based off new velocity updates\n",
    "    def update_position(self,bounds):\n",
    "        for i in range(0,num_dimensions):\n",
    "            self.position_i[i]=self.position_i[i]+self.velocity_i[i]\n",
    "            if self.position_i[i]>bounds[i][1]:  \n",
    "                self.position_i[i]=bounds[i][1]\n",
    "            if self.position_i[i]<bounds[i][0]:  \n",
    "                self.position_i[i]=bounds[i][0]\n",
    "    \n",
    "\n",
    "class PSO():\n",
    "    def __init__(self,costFunc,bounds,num_particles,maxiter,dims):\n",
    "        global num_dimensions\n",
    "\n",
    "        num_dimensions=l=dims;\n",
    "        err_best_g=-1                   \n",
    "        pos_best_g=[]                   \n",
    "        swarm=[]\n",
    "        for i in range(0,num_particles):\n",
    "            swarm.append(Particle())\n",
    "\n",
    "        i=0   \n",
    "        while i<maxiter:\n",
    "            for j in range(0,num_particles):\n",
    "                swarm[j].evaluate(costFunc)\n",
    "                if swarm[j].err_i<err_best_g or err_best_g==-1:   #global update\n",
    "                    pos_best_g=list(swarm[j].position_i)\n",
    "                    err_best_g=float(swarm[j].err_i)\n",
    "            for j in range(0,num_particles):\n",
    "                swarm[j].update_velocity(pos_best_g)\n",
    "                swarm[j].update_position(bounds)\n",
    "            i+=1\n",
    "\n",
    "        print ('Final Result:')\n",
    "        print (pos_best_g)\n",
    "        print (err_best_g)\n",
    "\n",
    "if __name__ == \"__PSO__\":\n",
    "    main()"
   ]
  },
  {
   "cell_type": "code",
   "execution_count": 16,
   "metadata": {},
   "outputs": [
    {
     "name": "stdout",
     "output_type": "stream",
     "text": [
      "Final Result:\n",
      "[0.002463442375101842, 0.0017596085907361839, -0.0014016542252605858, -0.008744475604642843, 0.004231552939621566]\n",
      "0.00010550129917624456\n"
     ]
    },
    {
     "data": {
      "text/plain": [
       "<__main__.PSO at 0x1a50ca8e48>"
      ]
     },
     "execution_count": 16,
     "metadata": {},
     "output_type": "execute_result"
    }
   ],
   "source": [
    "bounds=[(-10,10),(-10,10),(-10,10),(-10,10),(-10,10)]  \n",
    "PSO(func1,bounds,num_particles=15,maxiter=30,dims=5)"
   ]
  }
 ],
 "metadata": {
  "kernelspec": {
   "display_name": "Python 3",
   "language": "python",
   "name": "python3"
  },
  "language_info": {
   "codemirror_mode": {
    "name": "ipython",
    "version": 3
   },
   "file_extension": ".py",
   "mimetype": "text/x-python",
   "name": "python",
   "nbconvert_exporter": "python",
   "pygments_lexer": "ipython3",
   "version": "3.6.4"
  }
 },
 "nbformat": 4,
 "nbformat_minor": 2
}
